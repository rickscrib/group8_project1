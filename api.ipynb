{
 "cells": [
  {
   "cell_type": "code",
   "execution_count": 22,
   "id": "d1d0398a",
   "metadata": {},
   "outputs": [],
   "source": [
    "import requests\n",
    "import json\n",
    "import pandas as pd\n",
    "import re\n",
    "\n",
    "# Import the API key\n",
    "from config import ombdapi_key"
   ]
  },
  {
   "cell_type": "code",
   "execution_count": 31,
   "id": "09da0592",
   "metadata": {},
   "outputs": [],
   "source": [
    "oscar_df = pd.DataFrame( pd.read_csv(\".\\Resources\\oscar.csv\", index_col='Unnamed: 0') )\n",
    "oscar_df = oscar_df.loc[0:5,:] # limit to first 6 movies\n",
    "oscar_df.head()"
   ]
  },
  {
   "cell_type": "code",
   "execution_count": 38,
   "id": "899689fc",
   "metadata": {},
   "outputs": [
    {
     "name": "stdout",
     "output_type": "stream",
     "text": [
      "{'Title': 'Everything Everywhere All at Once', 'Year': '2022', 'Rated': 'R', 'Released': '08 Apr 2022', 'Runtime': '139 min', 'Genre': 'Action, Adventure, Comedy', 'Director': 'Daniel Kwan, Daniel Scheinert', 'Writer': 'Daniel Kwan, Daniel Scheinert', 'Actors': 'Michelle Yeoh, Stephanie Hsu, Jamie Lee Curtis', 'Plot': 'A middle-aged Chinese immigrant is swept up into an insane adventure in which she alone can save existence by exploring other universes and connecting with the lives she could have led.', 'Language': 'English, Mandarin, Cantonese', 'Country': 'United States', 'Awards': 'Won 7 Oscars. 372 wins & 357 nominations total', 'Poster': 'https://m.media-amazon.com/images/M/MV5BYTdiOTIyZTQtNmQ1OS00NjZlLWIyMTgtYzk5Y2M3ZDVmMDk1XkEyXkFqcGdeQXVyMTAzMDg4NzU0._V1_SX300.jpg', 'Ratings': [{'Source': 'Internet Movie Database', 'Value': '7.8/10'}, {'Source': 'Rotten Tomatoes', 'Value': '93%'}, {'Source': 'Metacritic', 'Value': '81/100'}], 'Metascore': '81', 'imdbRating': '7.8', 'imdbVotes': '445,131', 'imdbID': 'tt6710474', 'Type': 'movie', 'DVD': '07 Jun 2022', 'BoxOffice': '$77,191,785', 'Production': 'N/A', 'Website': 'N/A', 'Response': 'True'}\n",
      "{'Title': 'All Quiet on the Western Front', 'Year': '2022', 'Rated': 'R', 'Released': '28 Oct 2022', 'Runtime': '148 min', 'Genre': 'Action, Drama, War', 'Director': 'Edward Berger', 'Writer': 'Edward Berger, Lesley Paterson, Ian Stokell', 'Actors': 'Felix Kammerer, Albrecht Schuch, Aaron Hilmer', 'Plot': \"A young German soldier's terrifying experiences and distress on the western front during World War I.\", 'Language': 'German, French', 'Country': 'Germany, United States, United Kingdom', 'Awards': 'Won 4 Oscars. 48 wins & 81 nominations total', 'Poster': 'https://m.media-amazon.com/images/M/MV5BMzM4ZDJhYjYtZGY5Ny00NTk0LWI4ZTYtNjczZDFiMGI2ZjEzXkEyXkFqcGdeQXVyNjc5NjEzNA@@._V1_SX300.jpg', 'Ratings': [{'Source': 'Internet Movie Database', 'Value': '7.8/10'}, {'Source': 'Rotten Tomatoes', 'Value': '90%'}, {'Source': 'Metacritic', 'Value': '76/100'}], 'Metascore': '76', 'imdbRating': '7.8', 'imdbVotes': '205,354', 'imdbID': 'tt1016150', 'Type': 'movie', 'DVD': '28 Oct 2022', 'BoxOffice': 'N/A', 'Production': 'N/A', 'Website': 'N/A', 'Response': 'True'}\n",
      "{'Title': 'The Whale', 'Year': '2022', 'Rated': 'R', 'Released': '21 Dec 2022', 'Runtime': '117 min', 'Genre': 'Drama', 'Director': 'Darren Aronofsky', 'Writer': 'Samuel D. Hunter', 'Actors': 'Brendan Fraser, Sadie Sink, Ty Simpkins', 'Plot': 'A reclusive, morbidly obese English teacher attempts to reconnect with his estranged teenage daughter.', 'Language': 'English', 'Country': 'United States', 'Awards': 'Won 2 Oscars. 43 wins & 116 nominations total', 'Poster': 'https://m.media-amazon.com/images/M/MV5BZDQ4Njg4YTctNGZkYi00NWU1LWI4OTYtNmNjOWMyMjI1NWYzXkEyXkFqcGdeQXVyMTA3MDk2NDg2._V1_SX300.jpg', 'Ratings': [{'Source': 'Internet Movie Database', 'Value': '7.7/10'}, {'Source': 'Rotten Tomatoes', 'Value': '64%'}, {'Source': 'Metacritic', 'Value': '60/100'}], 'Metascore': '60', 'imdbRating': '7.7', 'imdbVotes': '139,972', 'imdbID': 'tt13833688', 'Type': 'movie', 'DVD': '21 Feb 2023', 'BoxOffice': '$17,463,630', 'Production': 'N/A', 'Website': 'N/A', 'Response': 'True'}\n",
      "{'Title': 'Top Gun: Maverick', 'Year': '2022', 'Rated': 'PG-13', 'Released': '27 May 2022', 'Runtime': '130 min', 'Genre': 'Action, Drama', 'Director': 'Joseph Kosinski', 'Writer': 'Jim Cash, Jack Epps Jr., Peter Craig', 'Actors': 'Tom Cruise, Jennifer Connelly, Miles Teller', 'Plot': \"After thirty years, Maverick is still pushing the envelope as a top naval aviator, but must confront ghosts of his past when he leads TOP GUN's elite graduates on a mission that demands the ultimate sacrifice from those chosen to ...\", 'Language': 'English', 'Country': 'United States', 'Awards': 'Won 1 Oscar. 93 wins & 214 nominations total', 'Poster': 'https://m.media-amazon.com/images/M/MV5BZWYzOGEwNTgtNWU3NS00ZTQ0LWJkODUtMmVhMjIwMjA1ZmQwXkEyXkFqcGdeQXVyMjkwOTAyMDU@._V1_SX300.jpg', 'Ratings': [{'Source': 'Internet Movie Database', 'Value': '8.3/10'}, {'Source': 'Rotten Tomatoes', 'Value': '96%'}, {'Source': 'Metacritic', 'Value': '78/100'}], 'Metascore': '78', 'imdbRating': '8.3', 'imdbVotes': '590,794', 'imdbID': 'tt1745960', 'Type': 'movie', 'DVD': '22 Aug 2022', 'BoxOffice': '$718,732,821', 'Production': 'N/A', 'Website': 'N/A', 'Response': 'True'}\n",
      "{'Title': 'Black Panther: Wakanda Forever', 'Year': '2022', 'Rated': 'PG-13', 'Released': '11 Nov 2022', 'Runtime': '161 min', 'Genre': 'Action, Adventure, Drama', 'Director': 'Ryan Coogler', 'Writer': 'Ryan Coogler, Joe Robert Cole, Stan Lee', 'Actors': \"Letitia Wright, Lupita Nyong'o, Danai Gurira\", 'Plot': \"The people of Wakanda fight to protect their home from intervening world powers as they mourn the death of King T'Challa.\", 'Language': 'English, Xhosa, Maya, Spanish, Haitian, French', 'Country': 'United States', 'Awards': 'Won 1 Oscar. 44 wins & 154 nominations total', 'Poster': 'https://m.media-amazon.com/images/M/MV5BNTM4NjIxNmEtYWE5NS00NDczLTkyNWQtYThhNmQyZGQzMjM0XkEyXkFqcGdeQXVyODk4OTc3MTY@._V1_SX300.jpg', 'Ratings': [{'Source': 'Internet Movie Database', 'Value': '6.7/10'}, {'Source': 'Rotten Tomatoes', 'Value': '84%'}, {'Source': 'Metacritic', 'Value': '67/100'}], 'Metascore': '67', 'imdbRating': '6.7', 'imdbVotes': '270,203', 'imdbID': 'tt9114286', 'Type': 'movie', 'DVD': '01 Feb 2023', 'BoxOffice': '$453,829,060', 'Production': 'N/A', 'Website': 'N/A', 'Response': 'True'}\n",
      "{'Title': 'Avatar: The Way of Water', 'Year': '2022', 'Rated': 'PG-13', 'Released': '16 Dec 2022', 'Runtime': '192 min', 'Genre': 'Action, Adventure, Fantasy', 'Director': 'James Cameron', 'Writer': 'James Cameron, Rick Jaffa, Amanda Silver', 'Actors': 'Sam Worthington, Zoe Saldana, Sigourney Weaver', 'Plot': \"Jake Sully lives with his newfound family formed on the extrasolar moon Pandora. Once a familiar threat returns to finish what was previously started, Jake must work with Neytiri and the army of the Na'vi race to protect their home.\", 'Language': 'English', 'Country': 'United States', 'Awards': 'Won 1 Oscar. 63 wins & 129 nominations total', 'Poster': 'https://m.media-amazon.com/images/M/MV5BYjhiNjBlODctY2ZiOC00YjVlLWFlNzAtNTVhNzM1YjI1NzMxXkEyXkFqcGdeQXVyMjQxNTE1MDA@._V1_SX300.jpg', 'Ratings': [{'Source': 'Internet Movie Database', 'Value': '7.7/10'}, {'Source': 'Rotten Tomatoes', 'Value': '76%'}, {'Source': 'Metacritic', 'Value': '67/100'}], 'Metascore': '67', 'imdbRating': '7.7', 'imdbVotes': '388,242', 'imdbID': 'tt1630029', 'Type': 'movie', 'DVD': '28 Mar 2023', 'BoxOffice': '$684,075,767', 'Production': 'N/A', 'Website': 'N/A', 'Response': 'True'}\n"
     ]
    }
   ],
   "source": [
    "base_url = \"http://www.omdbapi.com/?\"\n",
    "params = { \"apikey\" : ombdapi_key, \"type\" : \"movie\" }\n",
    "\n",
    "for index, row in oscar_df.iterrows():\n",
    "    params[\"t\"] = re.sub('\\s+', '+', oscar_df.loc[ index , 'Film' ] ) \n",
    "    movie_df = requests.get( base_url , params ).json()\n",
    "    \n",
    "    print(movie_df)"
   ]
  },
  {
   "cell_type": "code",
   "execution_count": 34,
   "id": "863555fd",
   "metadata": {},
   "outputs": [
    {
     "data": {
      "text/plain": [
       "'http://img.omdbapi.com/?apikey=70e3b731&t=Everything+Everywhere+All+at+Once'"
      ]
     },
     "execution_count": 34,
     "metadata": {},
     "output_type": "execute_result"
    }
   ],
   "source": []
  },
  {
   "cell_type": "code",
   "execution_count": null,
   "id": "ccdcc746",
   "metadata": {},
   "outputs": [],
   "source": []
  }
 ],
 "metadata": {
  "kernelspec": {
   "display_name": "Python 3 (ipykernel)",
   "language": "python",
   "name": "python3"
  },
  "language_info": {
   "codemirror_mode": {
    "name": "ipython",
    "version": 3
   },
   "file_extension": ".py",
   "mimetype": "text/x-python",
   "name": "python",
   "nbconvert_exporter": "python",
   "pygments_lexer": "ipython3",
   "version": "3.10.11"
  }
 },
 "nbformat": 4,
 "nbformat_minor": 5
}
